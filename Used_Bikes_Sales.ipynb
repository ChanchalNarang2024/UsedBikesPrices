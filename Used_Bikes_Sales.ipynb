{
 "cells": [
  {
   "cell_type": "markdown",
   "id": "03fab30b-2379-4d31-9b9b-f99bde1bae46",
   "metadata": {},
   "source": [
    "## Used Bikes-Feature Engineering and EDA"
   ]
  },
  {
   "cell_type": "markdown",
   "id": "04386b5d-3446-489d-87d2-299bc34add3c",
   "metadata": {},
   "source": [
    "## DataScience LIfeCycle has following components:\n",
    "   1. Data source:Here we read the data and paas to next component\n",
    "   2. Data Ingestion: Here we do train and test split and paas  to next component\n",
    "   3. Data Tranformation: Here we do EDA and Feature Engineering and paas to next component\n",
    "   4. ModelTrainer:Multiple models will get applied\n",
    "   5. ModelEvaluation: Each model will get evaluated and we will select model with best accuracy\n",
    "   6. Model Deployment:Here we use pipelines "
   ]
  },
  {
   "cell_type": "markdown",
   "id": "05a6396a-5833-457a-80ee-3c4b45ffcc47",
   "metadata": {},
   "source": [
    "### Importing libraries"
   ]
  },
  {
   "cell_type": "code",
   "execution_count": 2,
   "id": "52a6e4b3-0c01-44da-a260-1a643530943a",
   "metadata": {},
   "outputs": [],
   "source": [
    "import os\n",
    "import sys\n",
    "import pandas as pd\n",
    "import numpy as np\n",
    "from dataclasses import dataclass\n",
    "import sklearn\n",
    "from sklearn.model_selection import train_test_split"
   ]
  },
  {
   "cell_type": "markdown",
   "id": "0df47c5f-9e42-4a54-a051-a294c8b1fd0b",
   "metadata": {},
   "source": [
    "### Data source:Here we read the data and paas to next component\n",
    "**Our Data source is bikes.csv**"
   ]
  },
  {
   "cell_type": "markdown",
   "id": "09f3c684-d288-41f0-b810-9985c5624acf",
   "metadata": {},
   "source": [
    "### Data Ingestion: Here we do train and test split and paas to next component"
   ]
  },
  {
   "cell_type": "code",
   "execution_count": 3,
   "id": "9d7b18aa-6014-4b1d-835a-03d2d3bfdcf4",
   "metadata": {},
   "outputs": [],
   "source": [
    "@dataclass\n",
    "class DataIngestionConfig:\n",
    "      train_data_path:str=os.path.join('artifacts','train.csv')\n",
    "      test_data_path:str=os.path.join('artifacts','test.csv')\n",
    "      raw_data_path:str=os.path.join('artifacts','raw.csv')\n",
    "class DataIngestion:\n",
    "    def __init__(self):\n",
    "        self.ingestion_config=DataIngestionConfig()\n",
    "    def initiate_data_ingestion(self):\n",
    "        try:\n",
    "            logging.info('reading from csv')\n",
    "            Bikes_Sales_Data=pd.read_csv('bikes.csv')\n",
    "            Bikes_Sales_Data.head()\n",
    "            os.makedirs(os.path.dirname(self.ingestion_config.train_data_path),exist_ok=True)\n",
    "            Bikes_Sales_Data.to_csv(self.ingestion_config.raw_data_path,index=False,header=true)\n",
    "            train_set,test_set=train_test_split(Bikes_Sales_Data,test_size=0.2,random=42)\n",
    "            Bikes_Sales_Data.to_csv(self.ingestion_config.train_data_path,index=False,header=true)\n",
    "            Bikes_Sales_Data.to_csv(self.ingestion_config.test_data_path,index=False,header=true)\n",
    "            logging.info('DataIngestion completed')\n",
    "            return( self.ingestion_config.train_data_path,self.ingestion_config.test_data_path)\n",
    "        except Exception as e:\n",
    "               raise CustomEception(e,sys)"
   ]
  },
  {
   "cell_type": "markdown",
   "id": "06f669fe-3dee-46e8-9edc-dae1a9821619",
   "metadata": {},
   "source": [
    "### Displaying First 5 rows of Dataframe"
   ]
  },
  {
   "cell_type": "code",
   "execution_count": 4,
   "id": "489f87ef-f922-49d7-9692-8d87279b9935",
   "metadata": {},
   "outputs": [
    {
     "ename": "NameError",
     "evalue": "name 'Bikes_Sales_DF' is not defined",
     "output_type": "error",
     "traceback": [
      "\u001b[1;31m---------------------------------------------------------------------------\u001b[0m",
      "\u001b[1;31mNameError\u001b[0m                                 Traceback (most recent call last)",
      "Cell \u001b[1;32mIn[4], line 1\u001b[0m\n\u001b[1;32m----> 1\u001b[0m Bikes_Sales_DF\u001b[38;5;241m.\u001b[39mhead()\n",
      "\u001b[1;31mNameError\u001b[0m: name 'Bikes_Sales_DF' is not defined"
     ]
    }
   ],
   "source": [
    "Bikes_Sales_DF.head() "
   ]
  },
  {
   "cell_type": "markdown",
   "id": "9e1f5042-ae53-4493-b42d-37e210e2d3fd",
   "metadata": {},
   "source": [
    "### Displaying last 5 rows of Dataframe"
   ]
  },
  {
   "cell_type": "code",
   "execution_count": null,
   "id": "ed35a966-5769-4218-ada7-c416cae2fdbf",
   "metadata": {},
   "outputs": [],
   "source": [
    " Bikes_Sales_DF.tail()  "
   ]
  },
  {
   "cell_type": "markdown",
   "id": "acf3f9f1-bc81-40db-923a-6e975a82726c",
   "metadata": {},
   "source": [
    "### Data information"
   ]
  },
  {
   "cell_type": "code",
   "execution_count": null,
   "id": "83f061e8-fa1a-4899-9ff1-061cbe799401",
   "metadata": {},
   "outputs": [],
   "source": [
    "Bikes_Sales_DF.info() "
   ]
  },
  {
   "cell_type": "markdown",
   "id": "5dc37663-488d-4b62-bae4-162bdaf80c37",
   "metadata": {},
   "source": [
    "# DataCleaning\n"
   ]
  },
  {
   "cell_type": "markdown",
   "id": "58f0e717-21de-4835-b141-5ec43f47e273",
   "metadata": {},
   "source": [
    "### Missing values check"
   ]
  },
  {
   "cell_type": "code",
   "execution_count": null,
   "id": "e874a0fc-ac9e-46b9-99a1-9d132f89d82d",
   "metadata": {},
   "outputs": [],
   "source": [
    "Bikes_Sales_DF.isna().sum()"
   ]
  },
  {
   "cell_type": "markdown",
   "id": "d42e9f81-a480-47f5-bbd1-62e1e5e53881",
   "metadata": {},
   "source": [
    "### Dropping missing values"
   ]
  },
  {
   "cell_type": "code",
   "execution_count": null,
   "id": "0aaca529-d5b8-4304-8a1e-c09f68be80a0",
   "metadata": {},
   "outputs": [],
   "source": [
    "Bikes_Sales_DF=Bikes_Sales_DF.dropna()"
   ]
  },
  {
   "cell_type": "code",
   "execution_count": null,
   "id": "1e897dbd-8180-4d6f-aafd-d1892b005316",
   "metadata": {},
   "outputs": [],
   "source": [
    "Bikes_Sales_DF.isna().sum()   # All missing values removed"
   ]
  },
  {
   "cell_type": "markdown",
   "id": "473b98b6-b74d-4e40-9b43-b099650c7e09",
   "metadata": {},
   "source": [
    "## Exploratory Data Analysis (EDA)"
   ]
  },
  {
   "cell_type": "markdown",
   "id": "615a1253-ec9d-4123-802e-b7cb9d85d424",
   "metadata": {},
   "source": [
    "### Stastical information about Data"
   ]
  },
  {
   "cell_type": "code",
   "execution_count": null,
   "id": "538c1ff5-f699-4168-a1a0-b5bc28ac778d",
   "metadata": {},
   "outputs": [],
   "source": [
    "Bikes_Sales_DF.describe()"
   ]
  },
  {
   "cell_type": "markdown",
   "id": "4a30bc77-9a0f-4c70-b1d7-433f99ae79b4",
   "metadata": {},
   "source": [
    "## Sorted Dataframe by Bikes model_year"
   ]
  },
  {
   "cell_type": "code",
   "execution_count": null,
   "id": "a3bb5e2a-9fb7-4f30-8210-8512d684ffac",
   "metadata": {},
   "outputs": [],
   "source": [
    "sns.histplot(Bikes_Sales_DF['price'])\n",
    "plt.show()"
   ]
  },
  {
   "cell_type": "markdown",
   "id": "3a96933e-c725-4f3b-aa38-42816a464b11",
   "metadata": {},
   "source": [
    "## Observation:\n",
    "- With increase in price Used Bikes counts decreasing\n"
   ]
  },
  {
   "cell_type": "code",
   "execution_count": null,
   "id": "1e2f99a5-50e2-4db1-99a3-ff78e3a49b9b",
   "metadata": {},
   "outputs": [],
   "source": [
    "Bikes_Sales_DF.sort_values(by=['model_year'])"
   ]
  },
  {
   "cell_type": "markdown",
   "id": "3cda884b-4be7-420e-a7de-b99981450d14",
   "metadata": {},
   "source": [
    "### Outlier Check for Target Variable\n",
    "#### Box Plot"
   ]
  },
  {
   "cell_type": "code",
   "execution_count": null,
   "id": "00a42a9b-095d-4036-a099-89612e942c6b",
   "metadata": {},
   "outputs": [],
   "source": [
    "x=Bikes_Sales_DF['price']\n",
    "plt.ticklabel_format(style='plain')\n",
    "plt.boxplot(x)\n",
    "plt.show()"
   ]
  },
  {
   "cell_type": "markdown",
   "id": "84f46c2e-e98c-43a7-a3d6-cca03b66f886",
   "metadata": {},
   "source": [
    "### outliers removed for Target Variable i.e. Price"
   ]
  },
  {
   "cell_type": "code",
   "execution_count": null,
   "id": "9adddc15-e0e8-4984-941e-18962fbb80ea",
   "metadata": {},
   "outputs": [],
   "source": [
    "Bikes_Sales_DF=Bikes_Sales_DF[Bikes_Sales_DF['price']<200000]\n",
    "x=Bikes_Sales_DF['price']\n",
    "plt.ticklabel_format(style='plain')\n",
    "plt.boxplot(x)\n",
    "plt.ylabel('price')\n",
    "plt.show()"
   ]
  },
  {
   "cell_type": "markdown",
   "id": "10ca7563-0dfd-4605-a256-237f243977a9",
   "metadata": {},
   "source": [
    "# Univariate Analysis for Price"
   ]
  },
  {
   "cell_type": "markdown",
   "id": "9f369dcd-1b87-4e7b-bd6a-170849f06df9",
   "metadata": {},
   "source": [
    "## Histogram for Target  Variable Price"
   ]
  },
  {
   "cell_type": "code",
   "execution_count": null,
   "id": "967bf72a-81ab-4254-a521-262e498a1475",
   "metadata": {},
   "outputs": [],
   "source": [
    "sns.histplot(Bikes_Sales_DF['price'])\n",
    "plt.show()"
   ]
  },
  {
   "cell_type": "markdown",
   "id": "12b0670b-bf9c-4dd4-862a-0b68f01d210e",
   "metadata": {},
   "source": [
    "## Observation\n",
    "- Used Bikes have good count in range 20000 to 50000\n",
    "- Count starts decreasing for prices more than 50,0000 "
   ]
  },
  {
   "cell_type": "markdown",
   "id": "8069830f-edcc-40bc-a86b-b4f8026a8456",
   "metadata": {},
   "source": [
    "## Feature Engineering\n",
    "- Created new column kms_driven_new\n",
    "- Dropping kms_driven"
   ]
  },
  {
   "cell_type": "code",
   "execution_count": null,
   "id": "0f15ae93-5a29-44e5-aebe-72d64474e66a",
   "metadata": {},
   "outputs": [],
   "source": [
    "Bikes_Sales_DF['kms_driven_new']=[val.split(' ')[0] if len(val.split(' ')) == 2 else val.split(' ')[1] for val in Bikes_Sales_DF['kms_driven'] ]\n"
   ]
  },
  {
   "cell_type": "code",
   "execution_count": null,
   "id": "7e1be1e5-2568-47e2-ba97-5e61dcc393e7",
   "metadata": {},
   "outputs": [],
   "source": [
    "Bikes_Sales_DF.drop(columns=['kms_driven'],inplace=True)\n"
   ]
  },
  {
   "cell_type": "code",
   "execution_count": null,
   "id": "1677fbba-0bad-4206-8d9d-e74fe41998e7",
   "metadata": {},
   "outputs": [],
   "source": [
    "sns.histplot(Bikes_Sales_DF['kms_driven_new'])\n",
    "plt.show()"
   ]
  },
  {
   "cell_type": "markdown",
   "id": "66f1686c-fd05-4526-8a80-58afe918a62c",
   "metadata": {},
   "source": [
    "## Observation:\n",
    "- count of Used Bikes with more kms_driven is less\n",
    "- It means Used Bikes which drove less is available in good count,\n",
    "  which is a good thing from customers point of view"
   ]
  },
  {
   "cell_type": "code",
   "execution_count": null,
   "id": "7359367e-dfa3-4b3b-affa-011a0c335cb8",
   "metadata": {},
   "outputs": [],
   "source": [
    "sns.histplot(Bikes_Sales_DF['power'])\n",
    "plt.show()"
   ]
  },
  {
   "cell_type": "markdown",
   "id": "197c5064-6c9b-4e02-a145-7cb28d43f668",
   "metadata": {},
   "source": [
    "## Observation:\n",
    "- count of Used Bikes with more power is less\n",
    "- It means Used Bikes which  less power is available in good count,\n",
    "- **Not a Good Sign ,Needs to Be Taken Care Of**"
   ]
  },
  {
   "cell_type": "code",
   "execution_count": null,
   "id": "618a9e15-454a-4704-ac99-057927eda586",
   "metadata": {},
   "outputs": [],
   "source": [
    "### Bar Graph between model_year and Price"
   ]
  },
  {
   "cell_type": "code",
   "execution_count": null,
   "id": "a7cc93ea-91d7-4f1f-baa9-bc089bed233c",
   "metadata": {},
   "outputs": [],
   "source": [
    "x=Bikes_Sales_DF['model_year']\n",
    "y=Bikes_Sales_DF['price']\n",
    "plt.ticklabel_format(style='plain')\n",
    "plt.bar(x,y)\n",
    "plt.xlabel('model_name')\n",
    "plt.ylabel('price')\n",
    "plt.title('model_year vs price')\n",
    "plt.ticklabel_format(style='plain') # to remove le6\n",
    "plt.show()"
   ]
  },
  {
   "cell_type": "markdown",
   "id": "3a48cd58-99f7-4349-85ec-40ca45803264",
   "metadata": {},
   "source": [
    "#### Observation\n",
    "- **Maximum Sales came from Bikes having model_year in range 2010 to 2020**\n",
    "- **Very Few were interested in bikes whose model_year is older than 1970**"
   ]
  },
  {
   "cell_type": "code",
   "execution_count": null,
   "id": "4cca8fb2-1917-45e3-bdf0-275f5afe25ca",
   "metadata": {},
   "outputs": [],
   "source": [
    "Bikes_Sales_DF"
   ]
  },
  {
   "cell_type": "code",
   "execution_count": null,
   "id": "6011b367-35b4-4c34-8a7e-c1018af980ea",
   "metadata": {},
   "outputs": [],
   "source": [
    "Bikes_Sales_DF['model_name'].value_counts()   # Checking count of each bikes "
   ]
  },
  {
   "cell_type": "markdown",
   "id": "7787f860-30d5-467e-a590-8f1e5ce7c651",
   "metadata": {},
   "source": [
    "### conclusion\n",
    "- From above value,i found that model_name **Royal Enfield Classic 350cc 2017** sold the most\n",
    "- **Major Revenue came from this model**"
   ]
  },
  {
   "cell_type": "code",
   "execution_count": null,
   "id": "f8f85cbf-26d8-47c8-9174-8fd2eae5b468",
   "metadata": {},
   "outputs": [],
   "source": [
    "count=Bikes_Sales_DF['location'].value_counts()\n"
   ]
  },
  {
   "cell_type": "markdown",
   "id": "d96a411b-7006-43dd-a1c1-b19ca4fa94fa",
   "metadata": {},
   "source": [
    "## Observation\n",
    "**delhi has maximum sales among metro cities and hyderabad has least**\n"
   ]
  },
  {
   "cell_type": "code",
   "execution_count": null,
   "id": "40503b6c-b61e-4dc0-9b69-79b992ba28f2",
   "metadata": {},
   "outputs": [],
   "source": []
  }
 ],
 "metadata": {
  "kernelspec": {
   "display_name": "Python 3 (ipykernel)",
   "language": "python",
   "name": "python3"
  },
  "language_info": {
   "codemirror_mode": {
    "name": "ipython",
    "version": 3
   },
   "file_extension": ".py",
   "mimetype": "text/x-python",
   "name": "python",
   "nbconvert_exporter": "python",
   "pygments_lexer": "ipython3",
   "version": "3.12.7"
  }
 },
 "nbformat": 4,
 "nbformat_minor": 5
}
